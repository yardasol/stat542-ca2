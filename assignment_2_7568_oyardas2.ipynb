{
 "cells": [
  {
   "cell_type": "code",
   "execution_count": 1,
   "id": "95f4f7a7",
   "metadata": {},
   "outputs": [],
   "source": [
    "# By Olek Yardas [oyardas2]\n",
    "# and Dreycen Foiles [dfoiles2]\n",
    "\n",
    "# Work distribution:\n",
    "# We both contributed equally to analysis, coding, and results."
   ]
  },
  {
   "cell_type": "markdown",
   "id": "a9d98e13",
   "metadata": {},
   "source": [
    "# Part I: Implement Lasso"
   ]
  },
  {
   "cell_type": "code",
   "execution_count": 2,
   "id": "72f36bc9",
   "metadata": {},
   "outputs": [],
   "source": [
    "import numpy as np\n",
    "import pandas as pd\n",
    "import matplotlib.pyplot as plt\n",
    "\n",
    "# Set seed\n",
    "np.random.seed(7568)"
   ]
  },
  {
   "cell_type": "markdown",
   "id": "425f2149",
   "metadata": {},
   "source": [
    "## Load Data"
   ]
  },
  {
   "cell_type": "code",
   "execution_count": 3,
   "id": "718b97da",
   "metadata": {},
   "outputs": [],
   "source": [
    "myData = pd.read_csv(\"Coding2_Data.csv\")\n",
    "var_names = myData.columns\n",
    "y = myData[['Y']].to_numpy()\n",
    "X = myData.drop(['Y'], axis = 1).to_numpy()"
   ]
  },
  {
   "cell_type": "code",
   "execution_count": 4,
   "id": "fecd5374",
   "metadata": {},
   "outputs": [
    {
     "data": {
      "text/plain": [
       "((506, 13), 506)"
      ]
     },
     "execution_count": 4,
     "metadata": {},
     "output_type": "execute_result"
    }
   ],
   "source": [
    "X.shape, len(y)"
   ]
  },
  {
   "cell_type": "markdown",
   "id": "81be3361",
   "metadata": {},
   "source": [
    "## CD for Lasso"
   ]
  },
  {
   "cell_type": "code",
   "execution_count": 5,
   "id": "88a260ae",
   "metadata": {},
   "outputs": [],
   "source": [
    "def bstar(r, z, lam):\n",
    "    znorm = np.linalg.norm(z)**2\n",
    "    a = np.dot(r, z) / znorm\n",
    "    l = 2 * len(r) * lam / znorm\n",
    "    if a > l/2:\n",
    "        bstar = a - (l/2)\n",
    "    elif abs(a) <= l/2:\n",
    "        bstar = 0\n",
    "    elif a < -l/2:\n",
    "        bstar = a + (l/2)\n",
    "    else:\n",
    "        raise ValueError('ya done fucked up')\n",
    "    return bstar\n",
    "\n",
    "def one_var_lasso(r, z, lam):\n",
    "    #################\n",
    "    # Your CODE\n",
    "    #################\n",
    "    return bstar(r, z, lam)"
   ]
  },
  {
   "cell_type": "code",
   "execution_count": 6,
   "id": "2ae4501a",
   "metadata": {},
   "outputs": [],
   "source": [
    "def MyLasso(X, y, lam_seq, maxit = 100):\n",
    "    \n",
    "    # Input\n",
    "    # X: n-by-p design matrix without the intercept \n",
    "    # y: n-by-1 response vector \n",
    "    # lam.seq: sequence of lambda values (arranged from large to small)\n",
    "    # maxit: number of updates for each lambda \n",
    "    \n",
    "    # Output\n",
    "    # B: a (p+1)-by-len(lam.seq) coefficient matrix \n",
    "    #    with the first row being the intercept sequence \n",
    "\n",
    "  \n",
    "    n, p = X.shape\n",
    "    nlam = len(lam_seq)\n",
    "    B = np.zeros((p+1, nlam))\n",
    "    \n",
    "    ##############################\n",
    "    # YOUR CODE: \n",
    "    # (1) newX = Standardizad X; \n",
    "    # (2) Record the centers and scales used in (1) \n",
    "    ##############################\n",
    "    centers = np.mean(X,axis=0)\n",
    "    scales = np.std(X,axis=0)\n",
    "    newX = (X - centers)/scales\n",
    "    \n",
    "\n",
    "    # Initilize coef vector b and residual vector r\n",
    "    b = np.zeros(p)\n",
    "    r = y\n",
    "\n",
    "    \n",
    "    # Triple nested loop\n",
    "    for m in range(nlam):\n",
    "        for step in range(maxit):\n",
    "            for j in range(p):\n",
    "                X_j = newX[:, j].reshape(-1,1)\n",
    "                r = r + X_j * b[j]\n",
    "                b[j] = one_var_lasso(r.flatten(), X_j, lam_seq[m])\n",
    "                r = r - X_j * b[j]\n",
    "        B[1:, m] = b \n",
    "    \n",
    "    ##############################\n",
    "    # YOUR CODE:\n",
    "    # Scale back the coefficients;\n",
    "    # Update the intercepts stored in B[0,:]\n",
    "    ##############################\n",
    "    B[0,:] = np.mean(y) - np.sum((centers * B[1:,:].T / scales).T, axis=0) \n",
    "    \n",
    "        \n",
    "    B[1:,:] = (B[1:,:].T / scales).T \n",
    "    #B[1:,:] = (B[1:,:].T + centers).T\n",
    "    \n",
    "    \n",
    "    return(B)\n"
   ]
  },
  {
   "cell_type": "code",
   "execution_count": 7,
   "id": "995405d4",
   "metadata": {},
   "outputs": [],
   "source": [
    "log_lam_seq = np.linspace(-1, -8, num = 80)\n",
    "lam_seq = np.exp(log_lam_seq)\n",
    "myout = MyLasso(X, y, lam_seq, maxit = 100)"
   ]
  },
  {
   "cell_type": "code",
   "execution_count": 8,
   "id": "9e7e17d0",
   "metadata": {},
   "outputs": [
    {
     "data": {
      "text/plain": [
       "(-8.35, -0.6499999999999999, -0.30999458351285347, 0.49974219884805476)"
      ]
     },
     "execution_count": 8,
     "metadata": {},
     "output_type": "execute_result"
    },
    {
     "data": {
      "image/png": "[encoded data removed]",
      "text/plain": [
       "<Figure size 864x576 with 1 Axes>"
      ]
     },
     "metadata": {
      "needs_background": "light"
     },
     "output_type": "display_data"
    }
   ],
   "source": [
    "p, _ = myout.shape\n",
    "plt.figure(figsize = (12,8))\n",
    "\n",
    "for i in range(p-1):\n",
    "    plt.plot(log_lam_seq, myout[i+1, :], label = var_names[i])\n",
    "\n",
    "plt.xlabel('Log Lambda')\n",
    "plt.ylabel('Coefficients')\n",
    "plt.title('Lasso Paths - Numpy implementation')\n",
    "plt.legend()\n",
    "plt.axis('tight')"
   ]
  },
  {
   "cell_type": "code",
   "execution_count": null,
   "id": "1f3849dd",
   "metadata": {},
   "outputs": [],
   "source": [
    "lasso = cvglmnet(x = X[train_ind, :].copy(), y = Y[train_ind].copy(), alpha = 1)\n",
    "pred = cvglmnetPredict(lasso, s = lasso['lambda_min'], newx=X[test_ind, :].copy())\n",
    "lmin = np.mean((Y[test_ind] - pred)**2)"
   ]
  },
  {
   "cell_type": "code",
   "execution_count": 9,
   "id": "b5081272",
   "metadata": {},
   "outputs": [
    {
     "data": {
      "text/plain": [
       "(14, 80)"
      ]
     },
     "execution_count": 9,
     "metadata": {},
     "output_type": "execute_result"
    }
   ],
   "source": [
    "lasso_coef = pd.read_csv(\"Coding2_lasso_coefs.csv\").to_numpy()\n",
    "lasso_coef.shape"
   ]
  },
  {
   "cell_type": "code",
   "execution_count": 10,
   "id": "0a80f9ca",
   "metadata": {},
   "outputs": [
    {
     "data": {
      "text/plain": [
       "0.004645317415906014"
      ]
     },
     "execution_count": 10,
     "metadata": {},
     "output_type": "execute_result"
    }
   ],
   "source": [
    "abs(myout - lasso_coef).max()"
   ]
  },
  {
   "cell_type": "markdown",
   "id": "5ee17b23",
   "metadata": {},
   "source": [
    "Our function works! Error is less than 0.005 and the plot matches the example one."
   ]
  },
  {
   "cell_type": "markdown",
   "id": "512bb0ab",
   "metadata": {},
   "source": [
    "# Part II: Simulation Study"
   ]
  },
  {
   "cell_type": "code",
   "execution_count": 19,
   "id": "d6828494",
   "metadata": {},
   "outputs": [],
   "source": [
    "import pandas as pd\n",
    "import numpy as np\n",
    "import matplotlib.pyplot as plt\n",
    "from sklearn.linear_model import LinearRegression\n",
    "from sklearn.decomposition import PCA\n",
    "from sklearn.preprocessing import StandardScaler\n",
    "from sklearn.pipeline import Pipeline\n",
    "import glmnet_python\n",
    "from glmnet import glmnet\n",
    "from cvglmnet import cvglmnet\n",
    "from cvglmnetPredict import cvglmnetPredict\n",
    "from cvglmnetPlot import cvglmnetPlot\n",
    "from cvglmnetCoef import cvglmnetCoef"
   ]
  },
  {
   "cell_type": "markdown",
   "id": "96e3715c",
   "metadata": {},
   "source": [
    "### Create the training and test datasets"
   ]
  },
  {
   "cell_type": "markdown",
   "id": "dd3a0291",
   "metadata": {},
   "source": [
    "First, define our cases"
   ]
  },
  {
   "cell_type": "code",
   "execution_count": 20,
   "id": "dedc37f0",
   "metadata": {},
   "outputs": [],
   "source": [
    "def full(X, Y, train_ind, test_ind):\n",
    "    # Full model\n",
    "    full = LinearRegression().fit(X[train_ind, :], Y[train_ind])\n",
    "    return np.mean((full.predict(X[test_ind, :]) - Y[test_ind])**2)"
   ]
  },
  {
   "cell_type": "code",
   "execution_count": 21,
   "id": "9ae751cd",
   "metadata": {},
   "outputs": [],
   "source": [
    "def ridge(X, Y, train_ind, test_ind):\n",
    "    ridge_seq = np.exp(np.linspace(-2, -10, num=100))\n",
    "    ridge_out = cvglmnet(x = X.copy(), y = Y.copy(), alpha = 0, lambdau = ridge_seq)\n",
    "    ridge = cvglmnet(x = X[train_ind, :].copy(), y = Y[train_ind].copy(), alpha = 0, lambdau = ridge_seq)\n",
    "    pred = cvglmnetPredict(ridge, s = ridge['lambda_min'], newx=X[test_ind, :].copy())\n",
    "    lmin = np.mean((Y[test_ind] - pred)**2)\n",
    "    pred = cvglmnetPredict(ridge, s = ridge['lambda_1se'], newx=X[test_ind, :].copy())\n",
    "    l_1se = np.mean((Y[test_ind] - pred)**2)\n",
    "    return (lmin, l_1se)"
   ]
  },
  {
   "cell_type": "code",
   "execution_count": 22,
   "id": "40050efe",
   "metadata": {},
   "outputs": [],
   "source": [
    "# Lasso\n",
    "def lasso(X, Y, train_ind, test_ind):\n",
    "    lasso = cvglmnet(x = X[train_ind, :].copy(), y = Y[train_ind].copy(), alpha = 1)\n",
    "    pred = cvglmnetPredict(lasso, s = lasso['lambda_min'], newx=X[test_ind, :].copy())\n",
    "    lmin = np.mean((Y[test_ind] - pred)**2)\n",
    "    pred = cvglmnetPredict(lasso, s = lasso['lambda_1se'], newx=X[test_ind, :].copy())\n",
    "    l_1se = np.mean((Y[test_ind] - pred)**2)\n",
    "    lasso_coef = cvglmnetCoef(lasso, s = 'lambda_1se')\n",
    "    var_sel = np.nonzero(lasso_coef[1:])[0]\n",
    "    tmp_train = X[train_ind[:,None], var_sel[None, :]]\n",
    "    tmp_test = X[test_ind[:,None], var_sel[None, :]]\n",
    "    refit_model = LinearRegression().fit(tmp_train, Y[train_ind])\n",
    "    pred = refit_model.predict(tmp_test)\n",
    "    refit = np.mean((pred - Y[test_ind])**2)\n",
    "    return (lmin, l_1se, refit)"
   ]
  },
  {
   "cell_type": "code",
   "execution_count": 23,
   "id": "aa30dc6a",
   "metadata": {},
   "outputs": [],
   "source": [
    "# PCR\n",
    "\n",
    "class PCR(object):\n",
    "\n",
    "    def __init__(self, num_folds=10):\n",
    "        self.folds = num_folds\n",
    "\n",
    "    def fit(self, X, Y):\n",
    "        n, p = X.shape\n",
    "        indices = np.arange(n)\n",
    "        np.random.shuffle(indices)\n",
    "        index_sets = np.array_split(indices, self.folds)\n",
    "        ncomp = min(p, n - 1 - max([len(i) for i in index_sets]))\n",
    "        cv_err = np.zeros(ncomp)\n",
    "        \n",
    "        for ifold in range(self.folds):\n",
    "            train_inds =  np.delete(index_sets, obj=ifold, axis=0).ravel()\n",
    "            test_inds = index_sets[ifold]\n",
    "            \n",
    "            X_train = X[train_inds, :]\n",
    "            pipeline = Pipeline([('scaling', StandardScaler()), ('pca', PCA())])\n",
    "            pipeline.fit(X_train)\n",
    "            X_train = pipeline.transform(X_train)\n",
    "            coefs = Y[train_inds].T @ X_train / np.sum(X_train**2, axis=0)\n",
    "            b0 = np.mean(Y[train_inds])\n",
    "\n",
    "            X_test = pipeline.transform(X[test_inds, :])\n",
    "            \n",
    "            for k in np.arange(ncomp):\n",
    "                preds = X_test[:, :k] @ coefs.T[:k] + b0\n",
    "                cv_err[k] += cv_err[k] + np.sum((Y[test_inds]-preds)**2)\n",
    "\n",
    "        min_ind = np.argmin(cv_err)\n",
    "        self.ncomp = min_ind+1\n",
    "        pipeline = Pipeline([('scaling', StandardScaler()), ('pca', PCA(n_components=self.ncomp))])\n",
    "        self.transform = pipeline.fit(X)\n",
    "        self.model = LinearRegression().fit(self.transform.transform(X), Y)\n",
    "\n",
    "    def predict(self, X):\n",
    "        X_ = self.transform.transform(X)\n",
    "        return self.model.predict(X_)\n"
   ]
  },
  {
   "cell_type": "code",
   "execution_count": 24,
   "id": "1109f6ed",
   "metadata": {},
   "outputs": [],
   "source": [
    "def pcr(X, Y, train_ind, test_ind):\n",
    "    pcr_obj = PCR()\n",
    "    pcr_obj.fit(X[train_ind, :], Y[train_ind])\n",
    "    preds = pcr_obj.predict(X[test_ind, :])\n",
    "    return np.mean((Y[test_ind] - preds)**2)\n",
    "    "
   ]
  },
  {
   "cell_type": "markdown",
   "id": "319a83af",
   "metadata": {},
   "source": [
    "Then, we do the 50 cases"
   ]
  },
  {
   "cell_type": "markdown",
   "id": "a9e03cac",
   "metadata": {},
   "source": [
    "### Case I"
   ]
  },
  {
   "cell_type": "code",
   "execution_count": 25,
   "id": "94258c94",
   "metadata": {},
   "outputs": [],
   "source": [
    "myData = pd.read_csv('Coding2_Data2.csv')\n",
    "var_names = myData.columns\n",
    "Y = myData[['Y']].to_numpy()\n",
    "X = myData.drop(['Y'], axis = 1).to_numpy()\n",
    "\n",
    "full_res = []\n",
    "ridge_lmin_res = []\n",
    "ridge_l1se_res = []\n",
    "lasso_lmin_res = []\n",
    "lasso_l1se_res = []\n",
    "refit_res = []\n",
    "pcr_res = []\n",
    "\n",
    "n = len(Y)\n",
    "indices = np.arange(0, n)\n",
    "for i in range(0,50):\n",
    "    np.random.shuffle(indices)\n",
    "    test_ind = indices[:int(np.floor(0.25*n))]\n",
    "    train_ind = indices[len(test_ind):]\n",
    "    full_res.append(full(X, Y, train_ind, test_ind))\n",
    "    ridge_res = ridge(X, Y, train_ind, test_ind)\n",
    "    ridge_lmin_res.append(ridge_res[0])\n",
    "    ridge_l1se_res.append(ridge_res[1])\n",
    "    lasso_res = lasso(X, Y, train_ind, test_ind)\n",
    "    lasso_lmin_res.append(lasso_res[0])\n",
    "    lasso_l1se_res.append(lasso_res[1])\n",
    "    refit_res.append(lasso_res[2])\n",
    "    pcr_res.append(pcr(X, Y, train_ind, test_ind))\n",
    "    \n",
    "\n",
    "\n"
   ]
  },
  {
   "cell_type": "code",
   "execution_count": 26,
   "id": "0bc84fe3",
   "metadata": {},
   "outputs": [
    {
     "data": {
      "text/plain": [
       "(array([1, 2, 3, 4, 5, 6, 7]),\n",
       " [Text(0, 0, ''),\n",
       "  Text(0, 0, ''),\n",
       "  Text(0, 0, ''),\n",
       "  Text(0, 0, ''),\n",
       "  Text(0, 0, ''),\n",
       "  Text(0, 0, ''),\n",
       "  Text(0, 0, '')])"
      ]
     },
     "execution_count": 26,
     "metadata": {},
     "output_type": "execute_result"
    },
    {
     "data": {
      "image/png": "[encoded data removed]",
      "text/plain": [
       "<Figure size 432x288 with 1 Axes>"
      ]
     },
     "metadata": {
      "needs_background": "light"
     },
     "output_type": "display_data"
    }
   ],
   "source": [
    "res_i = [full_res,\n",
    "         ridge_lmin_res,\n",
    "         ridge_l1se_res,\n",
    "         lasso_lmin_res,\n",
    "         lasso_l1se_res,\n",
    "         refit_res,\n",
    "         pcr_res]\n",
    "plt.boxplot(res_i, labels=['full',\n",
    "                           'ridge_lmin',\n",
    "                           'ridge_l1se',\n",
    "                           'lasso_lmin',\n",
    "                           'lasso_l1se',\n",
    "                           'refit',\n",
    "                           'pcr'])\n",
    "plt.xticks(rotation=20)"
   ]
  },
  {
   "cell_type": "markdown",
   "id": "95189ca1",
   "metadata": {},
   "source": [
    "Based on our simulation results, we make the following conclusions:\n",
    "\n",
    "1. Ridge regression with lambda.min perfoms the best as seen in the figure. Note that Lasso with lambda.min is a very close second. \n",
    "2. Ridge regresssion with lambda.1se performs the worst\n",
    "3. For ridge regression, lambda.min produces better MSPE\n",
    "4. For Lasso, lambda.min produces better MSPE\n",
    "5. The Refit method performs about the sam as Lasso.1se, although it has less variance in the 1st quartile.\n",
    "6. It is worth doing variable selection, as we reduce variance and improve the computational performance of out model without a significant difference in prediction accuracy."
   ]
  },
  {
   "cell_type": "markdown",
   "id": "360354b9",
   "metadata": {},
   "source": [
    "### Case II"
   ]
  },
  {
   "cell_type": "code",
   "execution_count": 27,
   "id": "3ac697e8",
   "metadata": {},
   "outputs": [],
   "source": [
    "myData = pd.read_csv('Coding2_Data3.csv')\n",
    "var_names = myData.columns\n",
    "Y = myData[['Y']].to_numpy()\n",
    "X = myData.drop(['Y'], axis = 1).to_numpy()\n",
    "\n",
    "ridge_lmin_res_ii = []\n",
    "ridge_l1se_res_ii = []\n",
    "lasso_lmin_res_ii = []\n",
    "lasso_l1se_res_ii = []\n",
    "refit_res_ii = []\n",
    "pcr_res_ii = []\n",
    "\n",
    "n = len(Y)\n",
    "indices = np.arange(0, n)\n",
    "for i in range(0,50):\n",
    "    np.random.shuffle(indices)\n",
    "    test_ind = indices[:int(np.floor(0.25*n))]\n",
    "    train_ind = indices[len(test_ind):]\n",
    "    ridge_res = ridge(X, Y, train_ind, test_ind)\n",
    "    ridge_lmin_res_ii.append(ridge_res[0])\n",
    "    ridge_l1se_res_ii.append(ridge_res[1])\n",
    "    lasso_res = lasso(X, Y, train_ind, test_ind)\n",
    "    lasso_lmin_res_ii.append(lasso_res[0])\n",
    "    lasso_l1se_res_ii.append(lasso_res[1])\n",
    "    refit_res_ii.append(lasso_res[2])\n",
    "    pcr_res_ii.append(pcr(X, Y, train_ind, test_ind))\n",
    "    \n",
    "\n",
    "\n"
   ]
  },
  {
   "cell_type": "code",
   "execution_count": 28,
   "id": "f9ad220f",
   "metadata": {},
   "outputs": [
    {
     "data": {
      "text/plain": [
       "(array([1, 2, 3, 4, 5, 6]),\n",
       " [Text(0, 0, ''),\n",
       "  Text(0, 0, ''),\n",
       "  Text(0, 0, ''),\n",
       "  Text(0, 0, ''),\n",
       "  Text(0, 0, ''),\n",
       "  Text(0, 0, '')])"
      ]
     },
     "execution_count": 28,
     "metadata": {},
     "output_type": "execute_result"
    },
    {
     "data": {
      "image/png": "[encoded data removed]",
      "text/plain": [
       "<Figure size 432x288 with 1 Axes>"
      ]
     },
     "metadata": {
      "needs_background": "light"
     },
     "output_type": "display_data"
    }
   ],
   "source": [
    "res_ii = [ridge_lmin_res_ii,\n",
    "         ridge_l1se_res_ii,\n",
    "         lasso_lmin_res_ii,\n",
    "         lasso_l1se_res_ii,\n",
    "         refit_res_ii,\n",
    "         pcr_res_ii]\n",
    "plt.boxplot(res_ii, labels=['ridge_lmin',\n",
    "                           'ridge_l1se',\n",
    "                           'lasso_lmin',\n",
    "                           'lasso_l1se',\n",
    "                           'refit',\n",
    "                           'pcr'])\n",
    "plt.xticks(rotation=20)"
   ]
  },
  {
   "cell_type": "markdown",
   "id": "47d09152",
   "metadata": {},
   "source": [
    "Based on our simulation results, we make the following conclusions:\n",
    "\n",
    "1. Lasso with lambda.min perfoms the best as seen in the figure.\n",
    "2. PCR performs the worst\n",
    "3. In case 1, all methods perform better. This is due to the lack of noisy data. The additon of the noise data will increase the variance of the fit produced by the methods, spreading out the test error.\n",
    "4. We see that the Smallest MSPE is bigger in case 2 than it is in case 1. This is most likely due to the extra noise in the dataset creating inaccuary (variance) in the fit."
   ]
  }
 ],
 "metadata": {
  "kernelspec": {
   "display_name": "Python [conda env:viz] *",
   "language": "python",
   "name": "conda-env-viz-py"
  },
  "language_info": {
   "codemirror_mode": {
    "name": "ipython",
    "version": 3
   },
   "file_extension": ".py",
   "mimetype": "text/x-python",
   "name": "python",
   "nbconvert_exporter": "python",
   "pygments_lexer": "ipython3",
   "version": "3.10.2"
  }
 },
 "nbformat": 4,
 "nbformat_minor": 5
}
